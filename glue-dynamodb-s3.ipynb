{
	"metadata": {
		"kernelspec": {
			"name": "glue_pyspark",
			"display_name": "Glue PySpark",
			"language": "python"
		},
		"language_info": {
			"name": "Python_Glue_Session",
			"mimetype": "text/x-python",
			"codemirror_mode": {
				"name": "python",
				"version": 3
			},
			"pygments_lexer": "python3",
			"file_extension": ".py"
		}
	},
	"nbformat_minor": 4,
	"nbformat": 4,
	"cells": [
		{
			"cell_type": "markdown",
			"source": "\n# Glue Studio Notebook\nYou are now running a **Glue Studio** notebook; before you can start using your notebook you *must* start an interactive session.\n\n## Available Magics\n|          Magic              |   Type       |                                                                        Description                                                                        |\n|-----------------------------|--------------|-----------------------------------------------------------------------------------------------------------------------------------------------------------|\n| %%configure                 |  Dictionary  |  A json-formatted dictionary consisting of all configuration parameters for a session. Each parameter can be specified here or through individual magics. |\n| %profile                    |  String      |  Specify a profile in your aws configuration to use as the credentials provider.                                                                          |\n| %iam_role                   |  String      |  Specify an IAM role to execute your session with.                                                                                                        |\n| %region                     |  String      |  Specify the AWS region in which to initialize a session.                                                                                                 |\n| %session_id                 |  String      |  Returns the session ID for the running session.                                                                                                          |\n| %connections                |  List        |  Specify a comma separated list of connections to use in the session.                                                                                     |\n| %additional_python_modules  |  List        |  Comma separated list of pip packages, s3 paths or private pip arguments.                                                                                 |\n| %extra_py_files             |  List        |  Comma separated list of additional Python files from S3.                                                                                                 |\n| %extra_jars                 |  List        |  Comma separated list of additional Jars to include in the cluster.                                                                                       |\n| %number_of_workers          |  Integer     |  The number of workers of a defined worker_type that are allocated when a job runs. worker_type must be set too.                                          |\n| %glue_version               |  String      |  The version of Glue to be used by this session. Currently, the only valid options are 2.0 and 3.0 (eg: %glue_version 2.0).                               |\n| %security_config            |  String      |  Define a security configuration to be used with this session.                                                                                            |\n| %sql                        |  String      |  Run SQL code. All lines after the initial %%sql magic will be passed as part of the SQL code.                                                            |\n| %streaming                  |  String      |  Changes the session type to Glue Streaming.                                                                                                              |\n| %etl                        |  String      |  Changes the session type to Glue ETL.                                                                                                                    |\n| %status                     |              |  Returns the status of the current Glue session including its duration, configuration and executing user / role.                                          |\n| %stop_session               |              |  Stops the current session.                                                                                                                               |\n| %list_sessions              |              |  Lists all currently running sessions by name and ID.                                                                                                     |\n| %worker_type                |  String      |  Standard, G.1X, *or* G.2X. number_of_workers must be set too. Default is G.1X.                                                                           |\n| %spark_conf                 |  String      |  Specify custom spark configurations for your session. E.g. %spark_conf spark.serializer=org.apache.spark.serializer.KryoSerializer.                      |",
			"metadata": {
				"editable": false,
				"deletable": false,
				"trusted": true
			}
		},
		{
			"cell_type": "code",
			"source": "%stop_session",
			"metadata": {
				"trusted": true
			},
			"execution_count": 19,
			"outputs": [
				{
					"name": "stdout",
					"text": "Stopping session: ebdfb618-26ab-401e-803b-148309ec0237\nStopped session.\n",
					"output_type": "stream"
				}
			]
		},
		{
			"cell_type": "code",
			"source": "%connections hudi-connection\n%glue_version 3.0\n%region us-east-1\n%worker_type G.1X\n%number_of_workers 3\n%spark_conf spark.serializer=org.apache.spark.serializer.KryoSerializer",
			"metadata": {
				"trusted": true
			},
			"execution_count": 33,
			"outputs": [
				{
					"name": "stderr",
					"text": "You are already connected to a glueetl session ed10ba60-973b-4e30-ba22-d9dab9bb6428.\n\nNo change will be made to the current session that is set as glueetl. The session configuration change will apply to newly created sessions.\n",
					"output_type": "stream"
				},
				{
					"name": "stdout",
					"text": "Connections to be included:\nhudi-connection\n",
					"output_type": "stream"
				},
				{
					"name": "stderr",
					"text": "You are already connected to a glueetl session ed10ba60-973b-4e30-ba22-d9dab9bb6428.\n\nNo change will be made to the current session that is set as glueetl. The session configuration change will apply to newly created sessions.\n",
					"output_type": "stream"
				},
				{
					"name": "stdout",
					"text": "Setting Glue version to: 3.0\n",
					"output_type": "stream"
				},
				{
					"name": "stderr",
					"text": "You are already connected to a glueetl session ed10ba60-973b-4e30-ba22-d9dab9bb6428.\n\nNo change will be made to the current session that is set as glueetl. The session configuration change will apply to newly created sessions.\n",
					"output_type": "stream"
				},
				{
					"name": "stdout",
					"text": "Previous region: us-east-1\nSetting new region to: us-east-1\nReauthenticating Glue client with new region: us-east-1\nIAM role has been set to arn:aws:iam::043916019468:role/Lab3. Reauthenticating.\nAuthenticating with environment variables and user-defined glue_role_arn: arn:aws:iam::043916019468:role/Lab3\nAuthentication done.\nRegion is set to: us-east-1\n",
					"output_type": "stream"
				},
				{
					"name": "stderr",
					"text": "You are already connected to a glueetl session ed10ba60-973b-4e30-ba22-d9dab9bb6428.\n\nNo change will be made to the current session that is set as glueetl. The session configuration change will apply to newly created sessions.\n",
					"output_type": "stream"
				},
				{
					"name": "stdout",
					"text": "Previous worker type: G.1X\nSetting new worker type to: G.1X\n",
					"output_type": "stream"
				},
				{
					"name": "stderr",
					"text": "You are already connected to a glueetl session ed10ba60-973b-4e30-ba22-d9dab9bb6428.\n\nNo change will be made to the current session that is set as glueetl. The session configuration change will apply to newly created sessions.\n",
					"output_type": "stream"
				},
				{
					"name": "stdout",
					"text": "Previous number of workers: 3\nSetting new number of workers to: 3\nPrevious Spark configuration: spark.serializer=org.apache.spark.serializer.KryoSerializer\nSetting new Spark configuration to: spark.serializer=org.apache.spark.serializer.KryoSerializer\n",
					"output_type": "stream"
				}
			]
		},
		{
			"cell_type": "code",
			"source": "try:\n    import sys\n    from awsglue.transforms import *\n    from awsglue.utils import getResolvedOptions\n    from pyspark.context import SparkContext\n    from awsglue.context import GlueContext\n    from awsglue.job import Job\n    from pyspark.sql.session import SparkSession\n    from awsglue.dynamicframe import DynamicFrame\n    from pyspark.sql.functions import col, to_timestamp, monotonically_increasing_id, to_date, when\n    from pyspark.sql.functions import *\n    from awsglue.utils import getResolvedOptions\n    from pyspark.sql.types import *\n    from datetime import datetime\n    import boto3\n    from functools import reduce\nexcept Exception as e:\n    pass",
			"metadata": {
				"editable": true,
				"trusted": true
			},
			"execution_count": 17,
			"outputs": [
				{
					"name": "stdout",
					"text": "\n",
					"output_type": "stream"
				}
			]
		},
		{
			"cell_type": "code",
			"source": "spark = SparkSession.builder.config('spark.serializer','org.apache.spark.serializer.KryoSerializer').config('spark.sql.hive.convertMetastoreParquet','false').config('spark.sql.legacy.pathOptionBehavior.enabled', 'true').getOrCreate()\nsc = spark.sparkContext\nglueContext = GlueContext(sc)\njob = Job(glueContext)\nlogger = glueContext.get_logger()",
			"metadata": {
				"trusted": true
			},
			"execution_count": 18,
			"outputs": [
				{
					"name": "stdout",
					"text": "\n",
					"output_type": "stream"
				}
			]
		},
		{
			"cell_type": "code",
			"source": "ReadDF = glueContext.create_dynamic_frame.from_catalog(\n    database=\"qadb\",\n    table_name=\"table_name_oltp\",\n    transformation_ctx=\"ReadDF\",\n)",
			"metadata": {
				"trusted": true
			},
			"execution_count": 20,
			"outputs": [
				{
					"name": "stdout",
					"text": "\n",
					"output_type": "stream"
				}
			]
		},
		{
			"cell_type": "code",
			"source": "spark_df = ReadDF.toDF()",
			"metadata": {
				"trusted": true
			},
			"execution_count": 21,
			"outputs": [
				{
					"name": "stdout",
					"text": "\n",
					"output_type": "stream"
				}
			]
		},
		{
			"cell_type": "code",
			"source": "spark_df.show(2)",
			"metadata": {
				"trusted": true
			},
			"execution_count": 22,
			"outputs": [
				{
					"name": "stdout",
					"text": "+--------------------+---------+----------+--------------------+--------------------+--------------------+--------------------+--------------------+---------+--------------------+---------+------------+----+-----+---+\n|                city|last_name|first_name|                  sk|                text|             address|                  pk|               state|awsRegion|             eventID|eventName| eventSource|year|month|day|\n+--------------------+---------+----------+--------------------+--------------------+--------------------+--------------------+--------------------+---------+--------------------+---------+------------+----+-----+---+\n|15754 Dudley Land...|      Ray|      Eric|26be149e-d90a-422...|Republican enviro...|15754 Dudley Land...|26be149e-d90a-422...|Republican enviro...|us-east-1|d4cca531-6fea-453...|   REMOVE|aws:dynamodb|2022|   12| 19|\n|5493 Isabel Hill\n...|  Hampton|    Ashley|d8ccf3e0-9a6e-41d...|Attention serious...|5493 Isabel Hill\n...|d8ccf3e0-9a6e-41d...|Attention serious...|us-east-1|6ae81ed8-2abd-42b...|   REMOVE|aws:dynamodb|2022|   12| 19|\n+--------------------+---------+----------+--------------------+--------------------+--------------------+--------------------+--------------------+---------+--------------------+---------+------------+----+-----+---+\nonly showing top 2 rows\n",
					"output_type": "stream"
				}
			]
		},
		{
			"cell_type": "code",
			"source": "cols = (\"eventName\",\"awsRegion\")\nspark_df = spark_df.drop(*cols)",
			"metadata": {
				"trusted": true
			},
			"execution_count": 23,
			"outputs": [
				{
					"name": "stdout",
					"text": "\n",
					"output_type": "stream"
				}
			]
		},
		{
			"cell_type": "code",
			"source": "spark_df.show(1)",
			"metadata": {
				"trusted": true
			},
			"execution_count": 24,
			"outputs": [
				{
					"name": "stdout",
					"text": "+--------------------+---------+----------+--------------------+--------------------+--------------------+--------------------+--------------------+--------------------+------------+----+-----+---+\n|                city|last_name|first_name|                  sk|                text|             address|                  pk|               state|             eventID| eventSource|year|month|day|\n+--------------------+---------+----------+--------------------+--------------------+--------------------+--------------------+--------------------+--------------------+------------+----+-----+---+\n|15754 Dudley Land...|      Ray|      Eric|26be149e-d90a-422...|Republican enviro...|15754 Dudley Land...|26be149e-d90a-422...|Republican enviro...|d4cca531-6fea-453...|aws:dynamodb|2022|   12| 19|\n+--------------------+---------+----------+--------------------+--------------------+--------------------+--------------------+--------------------+--------------------+------------+----+-----+---+\nonly showing top 1 row\n",
					"output_type": "stream"
				}
			]
		},
		{
			"cell_type": "code",
			"source": "db_name = \"qadb\"\ntable_name=\"hudi_table\"\nrecordkey = 'pk'\nprecombine = 'sk'\npath = \"s3://jt-soumil-data-qa-dynamodb-1995/hudi/hudi_tables/\"",
			"metadata": {
				"trusted": true
			},
			"execution_count": 26,
			"outputs": [
				{
					"name": "stdout",
					"text": "\n",
					"output_type": "stream"
				}
			]
		},
		{
			"cell_type": "code",
			"source": "pacheHudiConnector0101forAWSGlue30_node1671045598524 = (\n    glueContext.write_dynamic_frame.from_options(\n        frame=DynamicFrame.fromDF(spark_df, glueContext,\"glue_df\"),\n        connection_type=\"marketplace.spark\",\n        connection_options={\n            \"path\": path,\n            \"connectionName\": \"hudi-connection\",\n\n            \"hoodie.datasource.write.storage.type\": \"COPY_ON_WRITE\",\n            'className': 'org.apache.hudi',\n            'hoodie.table.name': table_name,\n            'hoodie.datasource.write.recordkey.field': recordkey,\n            'hoodie.datasource.write.table.name': table_name,\n            'hoodie.datasource.write.operation': 'upsert',\n            'hoodie.datasource.write.precombine.field': precombine,\n\n\n            'hoodie.datasource.hive_sync.enable': 'true',\n            \"hoodie.datasource.hive_sync.mode\":\"hms\",\n            'hoodie.datasource.hive_sync.sync_as_datasource': 'false',\n            'hoodie.datasource.hive_sync.database': db_name,\n            'hoodie.datasource.hive_sync.table': table_name,\n            'hoodie.datasource.hive_sync.use_jdbc': 'false',\n            'hoodie.datasource.hive_sync.partition_extractor_class': 'org.apache.hudi.hive.MultiPartKeysValueExtractor',\n            'hoodie.datasource.write.hive_style_partitioning': 'true',\n        },\n        transformation_ctx=\"glue_df\",\n    )\n)",
			"metadata": {
				"trusted": true
			},
			"execution_count": 27,
			"outputs": [
				{
					"name": "stdout",
					"text": "\n",
					"output_type": "stream"
				}
			]
		},
		{
			"cell_type": "code",
			"source": "",
			"metadata": {},
			"execution_count": null,
			"outputs": []
		}
	]
}